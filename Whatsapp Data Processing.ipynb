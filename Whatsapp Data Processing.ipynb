{
 "cells": [
  {
   "cell_type": "markdown",
   "metadata": {},
   "source": [
    "## Whatsapp Data Processing"
   ]
  },
  {
   "cell_type": "code",
   "execution_count": 1,
   "metadata": {},
   "outputs": [],
   "source": [
    "import datetime\n",
    "import pandas as pd\n",
    "import numpy as np"
   ]
  },
  {
   "cell_type": "code",
   "execution_count": 2,
   "metadata": {},
   "outputs": [],
   "source": [
    "def read_file(file):\n",
    "    '''Reads Whatsapp text file into a list of strings'''\n",
    "    x = open(file,'r', encoding = 'utf-8') #Opens the text file into variable x but the variable cannot be explored yet\n",
    "    y = x.read() #By now it becomes a huge chunk of string that we need to separate line by line\n",
    "    content = y.splitlines() #The splitline method converts the chunk of string into a list of strings\n",
    "    return content\n",
    "\n",
    "chat = read_file('test_chat.txt')\n"
   ]
  },
  {
   "cell_type": "code",
   "execution_count": 3,
   "metadata": {},
   "outputs": [
    {
     "data": {
      "text/plain": [
       "33563"
      ]
     },
     "execution_count": 3,
     "metadata": {},
     "output_type": "execute_result"
    }
   ],
   "source": [
    "len(chat)"
   ]
  },
  {
   "cell_type": "code",
   "execution_count": 4,
   "metadata": {},
   "outputs": [
    {
     "data": {
      "text/plain": [
       "33425"
      ]
     },
     "execution_count": 4,
     "metadata": {},
     "output_type": "execute_result"
    }
   ],
   "source": [
    "# Remove elements that are not date\n",
    "len(chat) #33563\n",
    "\n",
    "for i in range(len(chat)):\n",
    "  try:\n",
    "    datetime.datetime.strptime(chat[i].split(',')[0], '%d/%m/%Y') #Converts string date into a date object\n",
    "  except ValueError: #Returns an error if the string is not a datetime object\n",
    "    chat[i-1] = chat[i-1] + ' ' + chat[i] #Appends the next line to the previous line\n",
    "    chat[i] = \"NA\" #Replace the unwanted text element with 'NA'\n",
    "    \n",
    "#Handle more than double-line texting\n",
    "for i in range(len(chat)):\n",
    "  if chat[i].split(' ')[0] == 'NA':\n",
    "    chat[i] = 'NA'\n",
    "    \n",
    "while True:\n",
    "    try:\n",
    "        chat.remove(\"NA\")\n",
    "    except ValueError:\n",
    "        break\n",
    "        \n",
    "len(chat) #33425"
   ]
  },
  {
   "cell_type": "code",
   "execution_count": 5,
   "metadata": {},
   "outputs": [],
   "source": [
    "# Extract columns\n",
    "## Get date\n",
    "date = [chat[i].split(',')[0] for i in range(len(chat))]\n",
    "date = [text.split(',')[0] for text in chat]\n",
    "\n",
    "## Get time\n",
    "time = [chat[i].split(',')[1].split('-')[0] for i in range(len(chat))]\n",
    "time = [s.strip(' ') for s in time] # Remove spacing  \n",
    "\n",
    "## Get name\n",
    "name = [chat[i].split('-')[1].split(':')[0] for i in range(len(chat))]\n",
    "\n",
    "## Get content\n",
    "content = []\n",
    "for i in range(len(chat)):\n",
    "  try:\n",
    "    content.append(chat[i].split(':')[2])\n",
    "  except IndexError:\n",
    "    content.append('Missing Text')"
   ]
  },
  {
   "cell_type": "code",
   "execution_count": 6,
   "metadata": {
    "scrolled": true
   },
   "outputs": [
    {
     "data": {
      "text/html": [
       "<div>\n",
       "<style scoped>\n",
       "    .dataframe tbody tr th:only-of-type {\n",
       "        vertical-align: middle;\n",
       "    }\n",
       "\n",
       "    .dataframe tbody tr th {\n",
       "        vertical-align: top;\n",
       "    }\n",
       "\n",
       "    .dataframe thead th {\n",
       "        text-align: right;\n",
       "    }\n",
       "</style>\n",
       "<table border=\"1\" class=\"dataframe\">\n",
       "  <thead>\n",
       "    <tr style=\"text-align: right;\">\n",
       "      <th></th>\n",
       "      <th>Date</th>\n",
       "      <th>Time</th>\n",
       "      <th>Name</th>\n",
       "      <th>Content</th>\n",
       "    </tr>\n",
       "  </thead>\n",
       "  <tbody>\n",
       "    <tr>\n",
       "      <th>0</th>\n",
       "      <td>11/06/2019</td>\n",
       "      <td>09:23</td>\n",
       "      <td>Messages to this chat and calls are now secur...</td>\n",
       "      <td>Missing Text</td>\n",
       "    </tr>\n",
       "    <tr>\n",
       "      <th>1</th>\n",
       "      <td>11/06/2019</td>\n",
       "      <td>09:23</td>\n",
       "      <td>Angie Lim</td>\n",
       "      <td>Hey</td>\n",
       "    </tr>\n",
       "    <tr>\n",
       "      <th>2</th>\n",
       "      <td>11/06/2019</td>\n",
       "      <td>09:24</td>\n",
       "      <td>Angie Lim</td>\n",
       "      <td>https</td>\n",
       "    </tr>\n",
       "    <tr>\n",
       "      <th>3</th>\n",
       "      <td>11/06/2019</td>\n",
       "      <td>09:24</td>\n",
       "      <td>Angie Lim</td>\n",
       "      <td>This is the link</td>\n",
       "    </tr>\n",
       "    <tr>\n",
       "      <th>4</th>\n",
       "      <td>11/06/2019</td>\n",
       "      <td>09:24</td>\n",
       "      <td>Angie Lim</td>\n",
       "      <td>Hahaha</td>\n",
       "    </tr>\n",
       "  </tbody>\n",
       "</table>\n",
       "</div>"
      ],
      "text/plain": [
       "         Date   Time                                               Name  \\\n",
       "0  11/06/2019  09:23   Messages to this chat and calls are now secur...   \n",
       "1  11/06/2019  09:23                                          Angie Lim   \n",
       "2  11/06/2019  09:24                                          Angie Lim   \n",
       "3  11/06/2019  09:24                                          Angie Lim   \n",
       "4  11/06/2019  09:24                                          Angie Lim   \n",
       "\n",
       "             Content  \n",
       "0       Missing Text  \n",
       "1                Hey  \n",
       "2              https  \n",
       "3   This is the link  \n",
       "4             Hahaha  "
      ]
     },
     "execution_count": 6,
     "metadata": {},
     "output_type": "execute_result"
    }
   ],
   "source": [
    "df = pd.DataFrame(list(zip(date, time, name, content)), columns = ['Date', 'Time', 'Name', 'Content'])\n",
    "df.head()"
   ]
  },
  {
   "cell_type": "code",
   "execution_count": null,
   "metadata": {},
   "outputs": [],
   "source": []
  }
 ],
 "metadata": {
  "kernelspec": {
   "display_name": "Python 3",
   "language": "python",
   "name": "python3"
  },
  "language_info": {
   "codemirror_mode": {
    "name": "ipython",
    "version": 3
   },
   "file_extension": ".py",
   "mimetype": "text/x-python",
   "name": "python",
   "nbconvert_exporter": "python",
   "pygments_lexer": "ipython3",
   "version": "3.7.5"
  }
 },
 "nbformat": 4,
 "nbformat_minor": 2
}
